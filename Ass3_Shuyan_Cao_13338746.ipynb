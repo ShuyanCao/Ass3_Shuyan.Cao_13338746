{
  "nbformat": 4,
  "nbformat_minor": 0,
  "metadata": {
    "colab": {
      "name": "Ass3_Shuyan_Cao_13338746.ipynb",
      "provenance": [],
      "collapsed_sections": [],
      "include_colab_link": true
    },
    "kernelspec": {
      "name": "python3",
      "display_name": "Python 3"
    }
  },
  "cells": [
    {
      "cell_type": "markdown",
      "metadata": {
        "id": "view-in-github",
        "colab_type": "text"
      },
      "source": [
        "<a href=\"https://colab.research.google.com/github/ShuyanCao/Ass3_Shuyan.Cao_13338746/blob/master/Ass3_Shuyan_Cao_13338746.ipynb\" target=\"_parent\"><img src=\"https://colab.research.google.com/assets/colab-badge.svg\" alt=\"Open In Colab\"/></a>"
      ]
    },
    {
      "cell_type": "code",
      "metadata": {
        "id": "mO8YLhKajxLQ",
        "colab_type": "code",
        "colab": {}
      },
      "source": [
        ""
      ],
      "execution_count": 0,
      "outputs": []
    },
    {
      "cell_type": "markdown",
      "metadata": {
        "id": "TynJHiUbj4jg",
        "colab_type": "text"
      },
      "source": [
        "#Assignment3- Recommendation system based on Content Based (CB) and Collaborative Filtering (CF) algorithm\n",
        "\n",
        "*Student name: Shuyan Cao*\n",
        "\n",
        "\n",
        "*Student ID:13338746*\n",
        "\n",
        "---\n",
        "\n",
        "#1. Project research purpose\n",
        "* With the rapid development of the Internet, the Internet has become more and more widely used in various fields of social life as an important way for people to obtain information. At the same time, however, the contradiction between the ability of users to control information and the massive amount of network resources is more prominent, and the problem of \"information overload\" is becoming more and more serious. While e-commerce is quietly changing people's daily shopping patterns, it also gives people a greater choice of goods. However, as an Internet-based e-commerce system, it is inevitably affected by the phenomenon of “information overload”. Therefore, how to adaptively and intelligently arrange information from a large amount of data information such as existing customer information and commodity inventory information according to the user's intentions, interests and characteristics in the application practice of the e-commerce platform, and adjust and match The mechanism to obtain the user's satisfactory retrieval output has become a technical problem facing the future application of e-commerce. As a traditional solution, the search engine technology cannot meet the requirements of people to quickly and accurately obtain personalized information due to problems such as excessive redundancy of query results and chaotic display order. Therefore, developing a personalized and accurate product recommendation system that accurately reflects the user's personalized information needs and provides users with high-speed and accurate information has an important role in improving the transaction success rate of the e-commerce platform and the end user's loyalty to the platform.\n",
        "However, the existing personalized recommendation system has problems such as inability to effectively extract user interest and low accuracy. The reason is that the contradiction between system accuracy, adaptability and user burden is not well balanced.\n",
        "This topic intends to in-depth study of personalized product recommendation levels from the perspective of statistical learning and artificial intelligence, focusing on how to improve the accuracy and stability of the system, and ultimately achieve high efficiency and high accuracy of the user. The purpose of the product recommendation system; in this topic, the user's browsing interest to meet the user's needs has a universal positive significance for the development of e-commerce, so the topic of this topic has a certain advanced. The realization of this system will promote the development of e-commerce online platform, with important economic and social significance.\n",
        "\n",
        "#2. Main research Aims\n",
        "* The user interest model is the basis and source of knowledge for personalized information filtering and is a key factor that directly determines whether the product recommendation results are accurate or not. In the analysis of user interest, smart recommendation is a commonly used technical means. Intelligent recommendation can analyze some similar interests of users according to the information of users on the e-commerce online platform, to provide users with similar information products. Therefore, considering the difference in the distribution of application fields and user interests, to establish a high-precision, accurate and efficient artificial intelligence recommendation system, artificial intelligence is an ideal technical means for user interest analysis.\n",
        "\n",
        "* Based on the comprehensive analysis of existing user interest information and the working principle and limitations of the artificial intelligence analysis system, this topic aims to establish a high degree of generality based on the premise that the distribution of application fields and user interests is large. And aiming at the artificial intelligence recommendation system of accurate and efficient e-commerce website, focusing on researching and solving the key problem of large-scale artificial intelligence, designing and implementing a python-based e-commerce website commodity intelligent recommendation system.\n",
        "\n",
        "#3. Background\n",
        "\n",
        "* At present, the world's major business websites have begun to apply advanced technologies such as recommendation systems to the erection of business websites and have received good results. Among the prominent business websites are Amazon.com, CDNOW, eBay, Moviefinder.com, Reel.Com, Taobao, etc. Different business websites use different recommendation mechanisms for product recommendation. Among them, Amazon uses the project association and user clustering recommendation technology to send similar products to users by e-mail, and presents the products that the user may be interested in when browsing the website; the moviefinder.com Using the project correlation technology to obtain similarity items recommended to the user and using user clustering and statistical knowledge to derive TOP-N items are presented in the web page, and the average rating level of each item is listed for the user for reference by the viewer; When a user browses an item, the Taobao simultaneously presents some items that the other users who browsed the item browsed at the same time (the viewers who browse the same product have similarity), and presents other similar products of the product to the viewer. Overall, the international e-commerce sector has matured, but there are still no major breakthroughs in key technologies.\n",
        "\n",
        "* Recommendation systems are generally implemented in two ways. Content Based (CB) and Collaborative Filtering (CF), respectively. CF algorithm is to take advantage of the behavior of other relevant neighborhood users with similar or key interests to bring benefits to everyone's prediction (Parvathy et al. 2014). On the other hand, CB algorithm is to analyze the specific attributes of each objects.\n",
        "\n",
        "#4. Research project\n",
        "\n",
        "##1) Significance\n",
        "* The personalized research and application of e-commerce websites is still in its infancy. Although many research results have been obtained, some commercial websites have already applied some of them, but they are still in their infancy. There is no good solution to the sparseness problem and the cold start problem. The development and application of the recommendation system for business websites is not enough.\n",
        "\n",
        "* The development and application of this system will provide a better solution for the personalized recommendation of current business websites to a certain extent. This system is a customer-centric recommendation system that supports multi-user recommendations. This feature is catering to the characteristics of today's shopping diversification, so it has a larger market prospect. On the other hand, the recommendation system, as a customer-oriented sales party e-commerce recommendation system, can work together with the sales system, the customer relationship management system and the supply chain system to provide decision support for the enterprise's commodity pricing and sales.\n",
        "\n",
        "##2) Innovation and Technical difficulties\n",
        "* Since various recommendation methods have disadvantages, the system will adopt a combination recommendation method, that is, a combination of content recommendation and collaborative recommendation. A content-based method and a collaborative recommendation method are respectively used to generate a recommended prediction result, and then the result is combined by weighting.\n",
        "In the search for neighbor users, an adaptive text clustering algorithm based on parameter automatic learning is proposed. This technology can improve the accuracy and efficiency of calculation and has a great effect on improving the robustness of the system.\n",
        "\n",
        "* Integrating the existing technical foundation and the current technical reserve, there are four difficulties in developing the intelligent e-commerce intelligent recommendation system, which are: extracting keywords from the user purchase history database, storing keywords by category, and according to keywords Determine the recommendation of the product and how to present the system-generated product recommendation to the user.\n",
        "\n",
        "* First, the extraction of keywords. English as a natural language is based on basic letters to form words, and then words are constructed into sentences. How to divide the English sequence into meaningful words so that it can be understood by computers. Second, the storage of keywords. The extracted network is stored in the database with the relational network and data structure. Third, the determination of the degree of product recommendation. Each item should be determined according to a special algorithm, which can be determined according to the number of times of browsing, the number of purchases, or the user's own preference, and finally sorting the recommendations. Finally, recommend how the project will be presented. The recommended products are mainly presented in the following: the floating bar on the right side of the page, the floating small picture, the bottom bar of the web page, the recommended page of the home page, and the mixed presentation mode. How to properly adopt these methods in order to achieve the purpose of attracting consumers' attention.\n",
        "\n",
        "##3) Timeline\n",
        "\n",
        "* Specific work plan: The project study is completed within the scheduled period, from December 2019 to September 2020. The corresponding arrangements and progress are as follows:\n",
        "1.\tDecember 1, 2019 to February 1, 2020\n",
        "Completed a research report on the research of the Python-based e-commerce website commodity intelligent recommendation system.\n",
        "2.\t February 2, 2020 to March 1, 2020\n",
        "Establish a model of an intelligent recommendation system on an e-commerce online platform.\n",
        "3.\t March 2, 2020 to July 1, 2020\n",
        "Write a python program to complete the coding of the basic program of the project.\n",
        "4.\tJuly 2, 2020 to August 1, 2020\n",
        "Test the programmed program, continuously improve the project program, and finally complete the test.\n",
        "5.\t August 2, 2020 to September 1, 2020\n",
        "Complete the final project report and submit the smart recommendation system project on the completed e-commerce online platform.\n",
        "\n",
        "##4) Expected outcomes\n",
        "\n",
        "* After the system obtains the basic information and historical information of the logged-in user, the information needs to be denoised and clustered to extract a meaningful user model. This is an important part of e-commerce website data mining. In the comprehensive analysis of existing clustering techniques, this system proposes an adaptive text clustering algorithm based on automatic parameter learning.\n",
        "\n",
        "* In terms of recommendation methods, this project intends to use the combination recommendation algorithm of content recommendation and collaborative recommendation to classify and recommend user-defined domain requirement information first, and then use content-based recommendation to similar projects according to the user's actual atomic information needs. The analysis makes up for the lack of collaborative filtering recommendation in the new project recommendation and replaces the traditional collaborative filtering recommendation with the item-based collaborative filtering recommendation to make up for the lack of scalability of traditional collaborative filtering recommendation.\n",
        "\n",
        "* As is shown in F.1, content-based recommendation analyzes project feature attributes, finds similar items for new projects, and then predicts new project scores by user evaluation of similar projects (Jain et al. 2015). Content recommendation is divided into two phases: First, the first level of filtering. The domain information needs are classified by the support vector machine to ensure the recall rate. Second, secondary filtration. Because of the primary filtering, the content-based filtering is performed by using the vector space model for the atomic information requirements in each domain information node to ensure the precision.\n",
        "\n",
        "![alt text](https://github.com/ShuyanCao/Ass3_Shuyan.Cao_13338746/blob/master/content-based.gif?raw=true)\n",
        "<center>Figure.1 Content-based recommendation (from Jain et al. 2015)</center>\n",
        "\n",
        "* Item-based collaborative filtering recommends calculating neighboring users within a similar project and giving a final predicted score based on the similarity of the item selected by the current user (or interested) and the item of interest to the previous user. Like in F.2.\n",
        "\n",
        "![alt text](https://github.com/ShuyanCao/Ass3_Shuyan.Cao_13338746/blob/master/CF%20recommender.png?raw=true)\n",
        "<center>Figure.2 CF recommendation</center>\n",
        "\n",
        "* The F.3 is the finished project of the e-learning recommender system I made in the Research Project this semester under the supervise of Teacher Guangquan Zhang. It contains the recommended functions of two simple algorithms, CF and CB. This plan will be improved according to the existing projects, and the two sets of algorithms will be merged.\n",
        "\n",
        "![alt text](https://github.com/ShuyanCao/Ass3_Shuyan.Cao_13338746/blob/master/2019-10-08.png?raw=true)\n",
        "<center>Figure.3 E-learning recommender system</center>\n",
        "\n",
        "#5. Budget\n",
        "\n",
        "* About 1000 dollars for document retrieval, investigation, paper layout fee, data inquiry copies fee.\n",
        "\n",
        "#6. Personal\n",
        "\n",
        "* The completion of this project requires several network front-end developers, database administrators, algorithm writers and software testers.\n",
        "\n",
        "#7. Github address\n",
        "\n",
        "* https://github.com/ShuyanCao/Ass3_Shuyan.Cao_13338746\n",
        "\n",
        "#8. Youtube Video Address\n",
        "\n",
        "* https://youtu.be/If1tS-qHH0g\n",
        "\n",
        "![alt text](https://github.com/ShuyanCao/Ass3_Shuyan.Cao_13338746/blob/master/2019-10-09%20(1).png?raw=true)\n",
        "\n",
        "#9. Reference\n",
        "\n",
        "* Jain, S., Grover, A., Thakur, P.S. & Choudhary, S.K. 2015, 'Trends, problems and solutions of recommender system', pp. 955-8.\n",
        "\n",
        "* Parvathy, M., Ramya, R., Sundarakantham, K. & Shalinie, S.M. 2014, 'Recommendation system with collaborative social tagging exploration', pp. 1-6.\n",
        "\n"
      ]
    }
  ]
}